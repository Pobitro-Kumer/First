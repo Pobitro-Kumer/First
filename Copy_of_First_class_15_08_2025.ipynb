{
  "nbformat": 4,
  "nbformat_minor": 0,
  "metadata": {
    "colab": {
      "provenance": [],
      "authorship_tag": "ABX9TyMJRGTAt6Tx7tY/7R0kenyg",
      "include_colab_link": true
    },
    "kernelspec": {
      "name": "python3",
      "display_name": "Python 3"
    },
    "language_info": {
      "name": "python"
    }
  },
  "cells": [
    {
      "cell_type": "markdown",
      "metadata": {
        "id": "view-in-github",
        "colab_type": "text"
      },
      "source": [
        "<a href=\"https://colab.research.google.com/github/Pobitro-Kumer/First/blob/main/Copy_of_First_class_15_08_2025.ipynb\" target=\"_parent\"><img src=\"https://colab.research.google.com/assets/colab-badge.svg\" alt=\"Open In Colab\"/></a>"
      ]
    },
    {
      "cell_type": "code",
      "execution_count": null,
      "metadata": {
        "id": "sQQJpB6fScus",
        "colab": {
          "base_uri": "https://localhost:8080/"
        },
        "outputId": "a413ec65-6097-40b7-ff0f-320c9e22e956"
      },
      "outputs": [
        {
          "output_type": "stream",
          "name": "stdout",
          "text": [
            "name :  Pobitro \n",
            "age :  33 \n",
            "favorite_color is :  Light Blue \n"
          ]
        }
      ],
      "source": [
        "name = \" Pobitro \"\n",
        "age = \" 33 \"\n",
        "favorite_Color = \" Light Blue \"\n",
        "print(\"name :\",name)\n",
        "print(\"age :\",age)\n",
        "print(\"favorite_color is :\", favorite_Color)"
      ]
    },
    {
      "cell_type": "markdown",
      "source": [
        "# *Data Types*"
      ],
      "metadata": {
        "id": "pz53e88E1-xr"
      }
    },
    {
      "cell_type": "code",
      "source": [
        "name = \"pragyan\"\n",
        "adress = \"Jashore\"\n",
        "age = 2\n",
        "product_price = 805.7234\n",
        "valid = True\n",
        "result = False\n",
        "print(type(name))\n",
        "print(type(adress))\n",
        "print(type(age))\n",
        "print(type(product_price))\n",
        "print(type(valid))\n",
        "print(type(result))"
      ],
      "metadata": {
        "id": "sjjqHAkgTZll",
        "colab": {
          "base_uri": "https://localhost:8080/"
        },
        "outputId": "c12b824c-8dc5-415e-e3d1-f2f4e59e727e"
      },
      "execution_count": null,
      "outputs": [
        {
          "output_type": "stream",
          "name": "stdout",
          "text": [
            "<class 'str'>\n",
            "<class 'str'>\n",
            "<class 'int'>\n",
            "<class 'float'>\n",
            "<class 'bool'>\n",
            "<class 'bool'>\n"
          ]
        }
      ]
    },
    {
      "cell_type": "markdown",
      "source": [
        "# *Basic Operations*"
      ],
      "metadata": {
        "id": "_Wh7LGer3_3b"
      }
    },
    {
      "cell_type": "code",
      "source": [
        "length = 7\n",
        "width = 5\n",
        "area = length * length\n",
        "perimeter = 2 * (length + width)\n",
        "print(\"The area of rectangle :\", area)\n",
        "print(\"The perimeter of rectangle :\", perimeter)"
      ],
      "metadata": {
        "colab": {
          "base_uri": "https://localhost:8080/"
        },
        "id": "tS31B0Pg4GJY",
        "outputId": "26daf1bf-8b1d-458b-de1d-17bc32e92253"
      },
      "execution_count": null,
      "outputs": [
        {
          "output_type": "stream",
          "name": "stdout",
          "text": [
            "The area of rectangle : 49\n",
            "The perimeter of rectangle : 24\n"
          ]
        }
      ]
    },
    {
      "cell_type": "markdown",
      "source": [
        "# *List*"
      ],
      "metadata": {
        "id": "sSwZtEzz5sJe"
      }
    },
    {
      "cell_type": "code",
      "source": [
        "foods= [\"Fish\", \"Mutton\", \"vegetable\", \"Rice\", \"Ruti\"]\n",
        "print(foods[0])\n",
        "print(foods[4])\n",
        "print(foods[-1])\n",
        "print(foods[-5])\n",
        "print(foods[0:4])"
      ],
      "metadata": {
        "colab": {
          "base_uri": "https://localhost:8080/"
        },
        "id": "Fsnjwd_V5v4X",
        "outputId": "2d6f12e6-9855-4c33-aee8-097c4fd64600"
      },
      "execution_count": null,
      "outputs": [
        {
          "output_type": "stream",
          "name": "stdout",
          "text": [
            "Fish\n",
            "Ruti\n",
            "Ruti\n",
            "Fish\n",
            "['Fish', 'Mutton', 'vegetable', 'Rice']\n"
          ]
        }
      ]
    },
    {
      "cell_type": "markdown",
      "source": [
        "# *List Methods*"
      ],
      "metadata": {
        "id": "kzW3sCdQ7SiV"
      }
    },
    {
      "cell_type": "code",
      "source": [
        "place = [\"jashore\", \"Khulna\", \"Narail\", \"Jhenaidah\", \"Bagerhat\", \"Satkhira\",\"Meherpur\", \"Chuadanga\"]\n",
        "print(place)\n",
        "place.append(\"Magura\")\n",
        "print(place)\n",
        "place.insert(6,\"Kushtia\")\n",
        "print(place)\n",
        "place.remove(\"Meherpur\")\n",
        "print(place)\n",
        "popped = place.pop()\n",
        "print(place)\n",
        "print(popped)\n",
        "place.sort()\n",
        "print(place)\n",
        "place.reverse()\n",
        "print(place)\n"
      ],
      "metadata": {
        "colab": {
          "base_uri": "https://localhost:8080/"
        },
        "id": "0JGgelcg7Ypk",
        "outputId": "4e6cc6af-2f72-4a3a-ed7c-681cf1a4a909"
      },
      "execution_count": null,
      "outputs": [
        {
          "output_type": "stream",
          "name": "stdout",
          "text": [
            "['jashore', 'Khulna', 'Narail', 'Jhenaidah', 'Bagerhat', 'Satkhira', 'Meherpur', 'Chuadanga']\n",
            "['jashore', 'Khulna', 'Narail', 'Jhenaidah', 'Bagerhat', 'Satkhira', 'Meherpur', 'Chuadanga', 'Magura']\n",
            "['jashore', 'Khulna', 'Narail', 'Jhenaidah', 'Bagerhat', 'Satkhira', 'Kushtia', 'Meherpur', 'Chuadanga', 'Magura']\n",
            "['jashore', 'Khulna', 'Narail', 'Jhenaidah', 'Bagerhat', 'Satkhira', 'Kushtia', 'Chuadanga', 'Magura']\n",
            "['jashore', 'Khulna', 'Narail', 'Jhenaidah', 'Bagerhat', 'Satkhira', 'Kushtia', 'Chuadanga']\n",
            "Magura\n",
            "['Bagerhat', 'Chuadanga', 'Jhenaidah', 'Khulna', 'Kushtia', 'Narail', 'Satkhira', 'jashore']\n",
            "['jashore', 'Satkhira', 'Narail', 'Kushtia', 'Khulna', 'Jhenaidah', 'Chuadanga', 'Bagerhat']\n"
          ]
        }
      ]
    },
    {
      "cell_type": "markdown",
      "source": [
        "# *Data Collections: Dictionaries*"
      ],
      "metadata": {
        "id": "_ROv4ZusBUXF"
      }
    },
    {
      "cell_type": "code",
      "source": [
        "student = {\n",
        "    \"name\": \"Rana\",\n",
        "    \"age\": 21,\n",
        "    \"university\": \"Islamic University\",\n",
        "    \"courses\": [\"Python\", \"Data Science\", \"Web Development\", \"C programming\"]\n",
        "    }\n",
        "print(student)\n",
        "print(student[\"name\"])\n",
        "print(student[\"courses\"][0])\n",
        "student[\"phone\"] = \"01721391810\"\n",
        "student[\"age\"] = 23\n",
        "student[\"Email\"] = \"rana.91@gmail.com\"\n",
        "student[\"blood group\"] = \"O+\"\n",
        "print(student)\n",
        "if \"blood group\" in student:\n",
        "      print(\"blood group found\")\n",
        "else:\n",
        "      print(\"No blood group found\")"
      ],
      "metadata": {
        "colab": {
          "base_uri": "https://localhost:8080/"
        },
        "id": "sUndiq_EAJ_6",
        "outputId": "b581c94a-adba-42df-a72c-1213a5c43dff"
      },
      "execution_count": null,
      "outputs": [
        {
          "output_type": "stream",
          "name": "stdout",
          "text": [
            "{'name': 'Rana', 'age': 21, 'university': 'Islamic University', 'courses': ['Python', 'Data Science', 'Web Development', 'C programming']}\n",
            "Rana\n",
            "Python\n",
            "{'name': 'Rana', 'age': 23, 'university': 'Islamic University', 'courses': ['Python', 'Data Science', 'Web Development', 'C programming'], 'phone': '01721391810', 'Email': 'rana.91@gmail.com', 'blood group': 'O+'}\n",
            "blood group found\n"
          ]
        }
      ]
    },
    {
      "cell_type": "markdown",
      "source": [
        "# *Data Collections:Tuples*"
      ],
      "metadata": {
        "id": "4R6fNpQGH-ui"
      }
    },
    {
      "cell_type": "code",
      "source": [
        "coordinates = (23.1641, 89.2065)\n",
        "rgb_color = (255, 0, 128)\n",
        "print(coordinates[1])\n",
        "print(rgb_color)"
      ],
      "metadata": {
        "colab": {
          "base_uri": "https://localhost:8080/"
        },
        "id": "11oMqaZJIHs-",
        "outputId": "7aeec244-d26e-4cc4-e9a4-6622fccd7043"
      },
      "execution_count": null,
      "outputs": [
        {
          "output_type": "stream",
          "name": "stdout",
          "text": [
            "89.2065\n",
            "(255, 0, 128)\n"
          ]
        }
      ]
    },
    {
      "cell_type": "markdown",
      "source": [
        "# *Data Collections: Sets*"
      ],
      "metadata": {
        "id": "oHArAm20V4Vy"
      }
    },
    {
      "cell_type": "code",
      "source": [
        "color = {\"white\",\"Red\",\"Black\",\"yellow\",\"Blue\",\"Green\",\"indigo\",\"maroon\",\"orange\",\"pink\"}\n",
        "print(color)\n",
        "color.add(\"violet\")\n",
        "print(color)\n",
        "color.update([\"aqua\", \"cream\"])\n",
        "print(color)\n",
        "color.remove(\"Black\")\n",
        "print(color)\n",
        "color.discard(\"white\")\n",
        "print(color)\n",
        "primary_color = {\"Red\", \"Blue\", \"Green\"}\n",
        "print(primary_color)\n",
        "all_color = color | primary_color\n",
        "print(all_color)\n",
        "common_color =color & primary_color\n",
        "print(common_color)\n"
      ],
      "metadata": {
        "colab": {
          "base_uri": "https://localhost:8080/"
        },
        "id": "FRlnot26WB05",
        "outputId": "b5d2e122-1ccb-44a7-b1c0-97daf0fe65ff"
      },
      "execution_count": null,
      "outputs": [
        {
          "output_type": "stream",
          "name": "stdout",
          "text": [
            "{'Red', 'indigo', 'Blue', 'yellow', 'orange', 'maroon', 'pink', 'Black', 'Green', 'white'}\n",
            "{'Red', 'indigo', 'Blue', 'yellow', 'violet', 'orange', 'maroon', 'pink', 'Black', 'Green', 'white'}\n",
            "{'Red', 'aqua', 'indigo', 'Blue', 'yellow', 'violet', 'orange', 'cream', 'maroon', 'pink', 'Black', 'Green', 'white'}\n",
            "{'Red', 'aqua', 'indigo', 'Blue', 'yellow', 'violet', 'orange', 'cream', 'maroon', 'pink', 'Green', 'white'}\n",
            "{'Red', 'aqua', 'indigo', 'Blue', 'yellow', 'violet', 'orange', 'cream', 'maroon', 'pink', 'Green'}\n",
            "{'Red', 'Green', 'Blue'}\n",
            "{'Red', 'aqua', 'indigo', 'Green', 'Blue', 'yellow', 'orange', 'cream', 'maroon', 'pink', 'violet'}\n",
            "{'Blue', 'Red', 'Green'}\n"
          ]
        }
      ]
    },
    {
      "cell_type": "markdown",
      "source": [
        "# *Control Structures: If-Else Statements*"
      ],
      "metadata": {
        "id": "tNw6V5NedCco"
      }
    },
    {
      "cell_type": "code",
      "source": [
        "number = int(input(\"The Number is\"))\n",
        "if number > 0:\n",
        "  print(\"the number is positive\")\n",
        "elif number < 0:\n",
        "  print(\"the number is negetive\")\n",
        "else:\n",
        "  print(\"the number is zero\")\n"
      ],
      "metadata": {
        "colab": {
          "base_uri": "https://localhost:8080/"
        },
        "id": "wW2hpfjidt-k",
        "outputId": "d6a869f5-b232-456e-d83f-082c33b65546"
      },
      "execution_count": null,
      "outputs": [
        {
          "output_type": "stream",
          "name": "stdout",
          "text": [
            "The Number is0\n",
            "the number is zero\n"
          ]
        }
      ]
    },
    {
      "cell_type": "markdown",
      "source": [
        "# *nested If Statements and Logical operators*"
      ],
      "metadata": {
        "id": "IUCkfjJPrg5l"
      }
    },
    {
      "cell_type": "code",
      "source": [
        "age=int(input(\"Enter the age\"))\n",
        "is_student=input(\"are you student? (yes/no)\").lower()\n",
        "if(age  <=25 and is_student == \"yes\"):\n",
        "   print(\"you are eligible for discount\")\n",
        "elif(age>60 and is_student ==\"no\"):\n",
        "  print(\"you are eligible for discount\")\n",
        "else:\n",
        "  print(\"you are not eligible for discount\")"
      ],
      "metadata": {
        "colab": {
          "base_uri": "https://localhost:8080/"
        },
        "id": "bLqeOU8ortwf",
        "outputId": "ef4d00ea-392a-48fe-ae9a-54d0d0a7ccbd"
      },
      "execution_count": null,
      "outputs": [
        {
          "output_type": "stream",
          "name": "stdout",
          "text": [
            "Enter the age30\n",
            "are you student? (yes/no)no\n",
            "you are not eligible for discount\n"
          ]
        }
      ]
    },
    {
      "cell_type": "markdown",
      "source": [
        "# *Control Structures: Loops*"
      ],
      "metadata": {
        "id": "oYvGFzXpx0Vs"
      }
    },
    {
      "cell_type": "code",
      "source": [
        " print(\"The first 20 even Number is:\")\n",
        "for i in range(1,20):\n",
        "  print(i*2)\n",
        "print(\"The first 20 Odd number is:\")\n",
        "for i in range(1,20):\n",
        "  print(i*2-1)"
      ],
      "metadata": {
        "colab": {
          "base_uri": "https://localhost:8080/"
        },
        "id": "k6NLrJOMx9-0",
        "outputId": "b846dd13-c3f8-4c57-c240-2a93e8f9d35d"
      },
      "execution_count": null,
      "outputs": [
        {
          "output_type": "stream",
          "name": "stdout",
          "text": [
            "The first 20 even Number is:\n",
            "2\n",
            "4\n",
            "6\n",
            "8\n",
            "10\n",
            "12\n",
            "14\n",
            "16\n",
            "18\n",
            "20\n",
            "22\n",
            "24\n",
            "26\n",
            "28\n",
            "30\n",
            "32\n",
            "34\n",
            "36\n",
            "38\n",
            "The first 20 Odd number is:\n",
            "1\n",
            "3\n",
            "5\n",
            "7\n",
            "9\n",
            "11\n",
            "13\n",
            "15\n",
            "17\n",
            "19\n",
            "21\n",
            "23\n",
            "25\n",
            "27\n",
            "29\n",
            "31\n",
            "33\n",
            "35\n",
            "37\n"
          ]
        }
      ]
    },
    {
      "cell_type": "markdown",
      "source": [
        "# *Loop Control and Nested Loops*\n",
        "## *pyramid*"
      ],
      "metadata": {
        "id": "yltRDz6d1cE5"
      }
    },
    {
      "cell_type": "code",
      "source": [
        "for i in range(1, 6):\n",
        "  for j in range(1, 6):\n",
        "   product = i * j\n",
        "   print(f\"{i} x {j} = {product}\")\n",
        "print(\"-----\")\n"
      ],
      "metadata": {
        "colab": {
          "base_uri": "https://localhost:8080/"
        },
        "id": "2exlzFLz1uKM",
        "outputId": "1beab226-462b-4442-8fec-d5d265521d3a"
      },
      "execution_count": null,
      "outputs": [
        {
          "output_type": "stream",
          "name": "stdout",
          "text": [
            "1 x 1 = 1\n",
            "1 x 2 = 2\n",
            "1 x 3 = 3\n",
            "1 x 4 = 4\n",
            "1 x 5 = 5\n",
            "2 x 1 = 2\n",
            "2 x 2 = 4\n",
            "2 x 3 = 6\n",
            "2 x 4 = 8\n",
            "2 x 5 = 10\n",
            "3 x 1 = 3\n",
            "3 x 2 = 6\n",
            "3 x 3 = 9\n",
            "3 x 4 = 12\n",
            "3 x 5 = 15\n",
            "4 x 1 = 4\n",
            "4 x 2 = 8\n",
            "4 x 3 = 12\n",
            "4 x 4 = 16\n",
            "4 x 5 = 20\n",
            "5 x 1 = 5\n",
            "5 x 2 = 10\n",
            "5 x 3 = 15\n",
            "5 x 4 = 20\n",
            "5 x 5 = 25\n",
            "-----\n"
          ]
        }
      ]
    },
    {
      "cell_type": "code",
      "source": [
        "for i in range(9,1,-1):\n",
        "  print(\"*\"*i)"
      ],
      "metadata": {
        "colab": {
          "base_uri": "https://localhost:8080/"
        },
        "id": "7ab7Iyc-4dMZ",
        "outputId": "361b6f65-1f2d-48c6-b99f-191a604f90ce"
      },
      "execution_count": null,
      "outputs": [
        {
          "output_type": "stream",
          "name": "stdout",
          "text": [
            "*********\n",
            "********\n",
            "*******\n",
            "******\n",
            "*****\n",
            "****\n",
            "***\n",
            "**\n"
          ]
        }
      ]
    },
    {
      "cell_type": "code",
      "source": [
        "rows = int(input(\"enter The rows :\"))\n",
        "for i in range(1,rows+1):\n",
        "     print(\" \"*(rows-i) + \"*\"*(2*i-1))"
      ],
      "metadata": {
        "colab": {
          "base_uri": "https://localhost:8080/"
        },
        "id": "Rj3LZcAz519Z",
        "outputId": "dc7d3c7e-eec1-4108-ebe0-7e0cc7767f38"
      },
      "execution_count": null,
      "outputs": [
        {
          "output_type": "stream",
          "name": "stdout",
          "text": [
            "enter The rows :5\n",
            "    *\n",
            "   ***\n",
            "  *****\n",
            " *******\n",
            "*********\n"
          ]
        }
      ]
    },
    {
      "cell_type": "code",
      "source": [
        "rows = int(input(\"enter The rows :\"))\n",
        "for i in range(1,rows+1):\n",
        "  print(\"*\"*rows)"
      ],
      "metadata": {
        "colab": {
          "base_uri": "https://localhost:8080/"
        },
        "id": "-0SPAv2i9oQD",
        "outputId": "218d215d-5058-427f-df02-ab96d992ef7a"
      },
      "execution_count": null,
      "outputs": [
        {
          "output_type": "stream",
          "name": "stdout",
          "text": [
            "enter The rows :4\n",
            "****\n",
            "****\n",
            "****\n",
            "****\n"
          ]
        }
      ]
    },
    {
      "cell_type": "markdown",
      "source": [
        "# *Functions:Basics*"
      ],
      "metadata": {
        "id": "gOKkuiYQ-PTC"
      }
    },
    {
      "cell_type": "code",
      "source": [
        "c= float(input(\"enter the temperature in celcius :\"))\n",
        "f= (c*9/5)+32\n",
        "print(\"the temerature in Fahrenheit is :\",f)"
      ],
      "metadata": {
        "colab": {
          "base_uri": "https://localhost:8080/"
        },
        "id": "UjrmiudJ-Y3i",
        "outputId": "d8cad9b1-2e2d-486f-a8a6-8c1905a95066"
      },
      "execution_count": null,
      "outputs": [
        {
          "output_type": "stream",
          "name": "stdout",
          "text": [
            "enter the temperature in celcius :36\n",
            "the temerature in Fahrenheit is : 96.8\n"
          ]
        }
      ]
    },
    {
      "cell_type": "code",
      "source": [
        "def celsius_to_fahrenheit(celsius):\n",
        "    fahrenheit = (celsius * 9/5) + 32\n",
        "    return fahrenheit\n",
        "celsius = float(input(\"Enter the temperature in Celsius: \"))\n",
        "fahrenheit = celsius_to_fahrenheit(celsius)\n",
        "print(\"Temperature in Fahrenheit\",fahrenheit)"
      ],
      "metadata": {
        "colab": {
          "base_uri": "https://localhost:8080/"
        },
        "id": "F_1oOoccAhwR",
        "outputId": "94a7cee1-48a8-485d-c94c-70def7c1de95"
      },
      "execution_count": null,
      "outputs": [
        {
          "output_type": "stream",
          "name": "stdout",
          "text": [
            "Enter the temperature in Celsius: 36\n",
            "Temperature in Fahrenheit 96.8\n"
          ]
        }
      ]
    },
    {
      "cell_type": "code",
      "source": [
        "def fahrenheit_to_celsius(fahrenheit):\n",
        "    celsius = (fahrenheit - 32) * 5/9\n",
        "    return celsius\n",
        "fahrenheit = float(input(\"Enter the temperature in Fahrenheit: \"))\n",
        "celsius = fahrenheit_to_celsius(fahrenheit)\n",
        "print(\"The Temperature in Celsius is:\", celsius)\n"
      ],
      "metadata": {
        "colab": {
          "base_uri": "https://localhost:8080/"
        },
        "id": "sdwPWWQqEBNF",
        "outputId": "39528275-7df8-49e0-ac96-e392e5f465ba"
      },
      "execution_count": null,
      "outputs": [
        {
          "output_type": "stream",
          "name": "stdout",
          "text": [
            "Enter the temperature in Fahrenheit: 99\n",
            "The Temperature in Celsius is: 37.22222222222222\n"
          ]
        }
      ]
    },
    {
      "cell_type": "markdown",
      "source": [],
      "metadata": {
        "id": "HeizS6LbG3y3"
      }
    }
  ]
}